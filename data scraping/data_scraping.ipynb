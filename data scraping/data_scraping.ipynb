{
 "cells": [
  {
   "cell_type": "code",
   "execution_count": 2,
   "id": "141fd401-564a-4216-bab3-bef2397bdf29",
   "metadata": {
    "execution": {
     "iopub.execute_input": "2023-05-22T07:23:03.194818Z",
     "iopub.status.busy": "2023-05-22T07:23:03.194032Z",
     "iopub.status.idle": "2023-05-22T07:23:03.547821Z",
     "shell.execute_reply": "2023-05-22T07:23:03.546980Z",
     "shell.execute_reply.started": "2023-05-22T07:23:03.194759Z"
    },
    "tags": []
   },
   "outputs": [],
   "source": [
    "# First install spotipy in the terminal\n",
    "import spotipy\n",
    "from spotipy.oauth2 import SpotifyClientCredentials\n",
    "import json\n",
    "import numpy as np\n",
    "import pandas as pd"
   ]
  },
  {
   "cell_type": "code",
   "execution_count": 3,
   "id": "4a3f091c-2e60-4037-a541-995cb859716e",
   "metadata": {
    "execution": {
     "iopub.execute_input": "2023-05-22T07:23:09.970924Z",
     "iopub.status.busy": "2023-05-22T07:23:09.970261Z",
     "iopub.status.idle": "2023-05-22T07:23:10.029367Z",
     "shell.execute_reply": "2023-05-22T07:23:10.027973Z",
     "shell.execute_reply.started": "2023-05-22T07:23:09.970878Z"
    },
    "tags": []
   },
   "outputs": [],
   "source": [
    "# Reading the client ID and client secret from a separate json file\n",
    "credentials = json.load(open('authorization.json'))\n",
    "client_id = credentials['client_id']\n",
    "client_secret = credentials['client_secret']"
   ]
  },
  {
   "cell_type": "code",
   "execution_count": 177,
   "id": "dbafa839-9c41-40e7-a6de-d2d65d3b749b",
   "metadata": {
    "execution": {
     "iopub.execute_input": "2023-05-22T08:01:50.227593Z",
     "iopub.status.busy": "2023-05-22T08:01:50.226623Z",
     "iopub.status.idle": "2023-05-22T08:01:50.236777Z",
     "shell.execute_reply": "2023-05-22T08:01:50.235681Z",
     "shell.execute_reply.started": "2023-05-22T08:01:50.227511Z"
    },
    "tags": []
   },
   "outputs": [],
   "source": [
    "playlist_index = 39 #fill in the index of the playlist. There's 40 URI's in the json file\n",
    "\n",
    "f = open('playlists.json')\n",
    "playlists = json.load(f)\n",
    "playlist_uri = playlists[playlist_index]['uri']"
   ]
  },
  {
   "cell_type": "code",
   "execution_count": 178,
   "id": "9bc8ed1e-1828-440e-a0bf-7eb20d3b30af",
   "metadata": {
    "execution": {
     "iopub.execute_input": "2023-05-22T08:01:52.499407Z",
     "iopub.status.busy": "2023-05-22T08:01:52.498602Z",
     "iopub.status.idle": "2023-05-22T08:01:52.510838Z",
     "shell.execute_reply": "2023-05-22T08:01:52.509596Z",
     "shell.execute_reply.started": "2023-05-22T08:01:52.499344Z"
    },
    "tags": []
   },
   "outputs": [],
   "source": [
    "client_credentials_manager = SpotifyClientCredentials(client_id=client_id,client_secret=client_secret)\n",
    "\n",
    "sp = spotipy.Spotify(client_credentials_manager=client_credentials_manager)"
   ]
  },
  {
   "cell_type": "code",
   "execution_count": 179,
   "id": "58777fc0-b93d-4b2f-a8ec-77b6a34a1369",
   "metadata": {
    "execution": {
     "iopub.execute_input": "2023-05-22T08:01:53.913824Z",
     "iopub.status.busy": "2023-05-22T08:01:53.913052Z",
     "iopub.status.idle": "2023-05-22T08:01:54.394969Z",
     "shell.execute_reply": "2023-05-22T08:01:54.393982Z",
     "shell.execute_reply.started": "2023-05-22T08:01:53.913763Z"
    },
    "tags": []
   },
   "outputs": [],
   "source": [
    "# Saving the playlist ID\n",
    "playlist_id = playlist_uri.split(':')[2]  # the URI is split by ':' to get the playlist ID\n",
    "results = sp.playlist(playlist_id, 'tracks')"
   ]
  },
  {
   "cell_type": "code",
   "execution_count": 180,
   "id": "144f9429-ad03-42d4-9449-68d5f30b8950",
   "metadata": {
    "execution": {
     "iopub.execute_input": "2023-05-22T08:01:55.419992Z",
     "iopub.status.busy": "2023-05-22T08:01:55.419185Z",
     "iopub.status.idle": "2023-05-22T08:01:55.431882Z",
     "shell.execute_reply": "2023-05-22T08:01:55.430959Z",
     "shell.execute_reply.started": "2023-05-22T08:01:55.419920Z"
    },
    "tags": []
   },
   "outputs": [],
   "source": [
    "# Extracting track info like title and artist\n",
    "playlist_tracks_data = results['tracks'] \n",
    "playlist_tracks_id = [] # Creating empty lists\n",
    "playlist_tracks_titles = []\n",
    "playlist_tracks_artists = []\n",
    "playlist_tracks_first_artists = []\n",
    "\n",
    "# Looping over every track in the playlist to add the track ID, song name and artist(s) name(s) to the lists\n",
    "for track in playlist_tracks_data['items']:\n",
    "    playlist_tracks_id.append(track['track']['id'])\n",
    "    playlist_tracks_titles.append(track['track']['name'])\n",
    "    # adds a list of all artists involved in the song to the list of artists for the playlist\n",
    "    artist_list = []\n",
    "    for artist in track['track']['artists']:\n",
    "        artist_list.append(artist['name'])\n",
    "    playlist_tracks_artists.append(artist_list)\n",
    "    playlist_tracks_first_artists.append(artist_list[0])"
   ]
  },
  {
   "cell_type": "code",
   "execution_count": 181,
   "id": "e0c29662-2acb-4efc-8e3d-ccb3cdd84a1d",
   "metadata": {
    "execution": {
     "iopub.execute_input": "2023-05-22T08:01:56.574227Z",
     "iopub.status.busy": "2023-05-22T08:01:56.573546Z",
     "iopub.status.idle": "2023-05-22T08:02:17.350028Z",
     "shell.execute_reply": "2023-05-22T08:02:17.348915Z",
     "shell.execute_reply.started": "2023-05-22T08:01:56.574166Z"
    },
    "tags": []
   },
   "outputs": [],
   "source": [
    "# Extracting the genre per artist (because there is no genre infromation available per track) \n",
    "# and release date of the album the track is on (because there is no release date per track)\n",
    "genre_artist = []\n",
    "release_date_album = []\n",
    "\n",
    "for track in playlist_tracks_data['items']:\n",
    "    # Retrieve the first artist's genre information\n",
    "    first_artist_id = track['track']['artists'][0]['id']\n",
    "    artist_info = sp.artist(first_artist_id)\n",
    "    genre_artist.append(artist_info['genres'])\n",
    "    album_info = sp.album(track['track']['album']['id'])\n",
    "    # Retrieve the album's release date information\n",
    "    release_date_album.append(album_info['release_date'])"
   ]
  },
  {
   "cell_type": "code",
   "execution_count": 182,
   "id": "ee59e6b6-ec21-4649-99c9-52f3c626f51d",
   "metadata": {
    "execution": {
     "iopub.execute_input": "2023-05-22T08:02:33.238975Z",
     "iopub.status.busy": "2023-05-22T08:02:33.238177Z",
     "iopub.status.idle": "2023-05-22T08:02:33.454263Z",
     "shell.execute_reply": "2023-05-22T08:02:33.452727Z",
     "shell.execute_reply.started": "2023-05-22T08:02:33.238893Z"
    },
    "tags": []
   },
   "outputs": [],
   "source": [
    "# Extracting the audio features of each track. XXX\n",
    "features = sp.audio_features(playlist_tracks_id)\n",
    "features_df = pd.DataFrame(data=features, columns=features[0].keys())"
   ]
  },
  {
   "cell_type": "code",
   "execution_count": 183,
   "id": "a78f2941-4fe2-4184-9959-90c3df7ac94e",
   "metadata": {
    "execution": {
     "iopub.execute_input": "2023-05-22T08:02:34.919506Z",
     "iopub.status.busy": "2023-05-22T08:02:34.918546Z",
     "iopub.status.idle": "2023-05-22T08:03:03.371743Z",
     "shell.execute_reply": "2023-05-22T08:03:03.370593Z",
     "shell.execute_reply.started": "2023-05-22T08:02:34.919443Z"
    },
    "tags": []
   },
   "outputs": [],
   "source": [
    "# Extracting the audio analysis info of each track. XXX\n",
    "num_bars = []\n",
    "num_sections = []\n",
    "num_segments = []\n",
    "\n",
    "for i in range(0,len(features_df['id'])):\n",
    "    analysis = sp.audio_analysis(features_df.iloc[i]['id'])\n",
    "    num_bars.append(len(analysis['bars'])) # beats/time_signature\n",
    "    num_sections.append(len(analysis['sections']))\n",
    "    num_segments.append(len(analysis['segments']))\n"
   ]
  },
  {
   "cell_type": "code",
   "execution_count": 184,
   "id": "f0fc8df2-6bac-4252-be9f-351cef69ec43",
   "metadata": {
    "execution": {
     "iopub.execute_input": "2023-05-22T08:03:05.930272Z",
     "iopub.status.busy": "2023-05-22T08:03:05.929290Z",
     "iopub.status.idle": "2023-05-22T08:03:05.973015Z",
     "shell.execute_reply": "2023-05-22T08:03:05.972139Z",
     "shell.execute_reply.started": "2023-05-22T08:03:05.930189Z"
    },
    "tags": []
   },
   "outputs": [
    {
     "data": {
      "text/html": [
       "<div>\n",
       "<style scoped>\n",
       "    .dataframe tbody tr th:only-of-type {\n",
       "        vertical-align: middle;\n",
       "    }\n",
       "\n",
       "    .dataframe tbody tr th {\n",
       "        vertical-align: top;\n",
       "    }\n",
       "\n",
       "    .dataframe thead th {\n",
       "        text-align: right;\n",
       "    }\n",
       "</style>\n",
       "<table border=\"1\" class=\"dataframe\">\n",
       "  <thead>\n",
       "    <tr style=\"text-align: right;\">\n",
       "      <th></th>\n",
       "      <th>id</th>\n",
       "      <th>title</th>\n",
       "      <th>first_artist</th>\n",
       "      <th>all_artists</th>\n",
       "      <th>danceability</th>\n",
       "      <th>energy</th>\n",
       "      <th>key</th>\n",
       "      <th>loudness</th>\n",
       "      <th>mode</th>\n",
       "      <th>acousticness</th>\n",
       "      <th>...</th>\n",
       "      <th>liveness</th>\n",
       "      <th>valence</th>\n",
       "      <th>tempo</th>\n",
       "      <th>duration_ms</th>\n",
       "      <th>time_signature</th>\n",
       "      <th>num_bars</th>\n",
       "      <th>num_sections</th>\n",
       "      <th>num_segments</th>\n",
       "      <th>genres_artist</th>\n",
       "      <th>release_date_album</th>\n",
       "    </tr>\n",
       "  </thead>\n",
       "  <tbody>\n",
       "    <tr>\n",
       "      <th>0</th>\n",
       "      <td>2d8D7uk3tbAThjRkdfrx9c</td>\n",
       "      <td>Voyage voyage</td>\n",
       "      <td>Desireless</td>\n",
       "      <td>[Desireless]</td>\n",
       "      <td>0.606</td>\n",
       "      <td>0.913</td>\n",
       "      <td>8</td>\n",
       "      <td>-6.039</td>\n",
       "      <td>0</td>\n",
       "      <td>0.2460</td>\n",
       "      <td>...</td>\n",
       "      <td>0.3400</td>\n",
       "      <td>0.838</td>\n",
       "      <td>123.580</td>\n",
       "      <td>266600</td>\n",
       "      <td>4</td>\n",
       "      <td>133</td>\n",
       "      <td>11</td>\n",
       "      <td>1057</td>\n",
       "      <td>[french synthpop, italian disco]</td>\n",
       "      <td>2001-01-02</td>\n",
       "    </tr>\n",
       "    <tr>\n",
       "      <th>1</th>\n",
       "      <td>23l1kVpqMVREiwU1YAlcr4</td>\n",
       "      <td>I Guess That's Why They Call It The Blues</td>\n",
       "      <td>Elton John</td>\n",
       "      <td>[Elton John]</td>\n",
       "      <td>0.673</td>\n",
       "      <td>0.663</td>\n",
       "      <td>0</td>\n",
       "      <td>-7.290</td>\n",
       "      <td>1</td>\n",
       "      <td>0.2170</td>\n",
       "      <td>...</td>\n",
       "      <td>0.1770</td>\n",
       "      <td>0.671</td>\n",
       "      <td>120.634</td>\n",
       "      <td>285333</td>\n",
       "      <td>3</td>\n",
       "      <td>186</td>\n",
       "      <td>16</td>\n",
       "      <td>865</td>\n",
       "      <td>[glam rock, mellow gold, piano rock, rock]</td>\n",
       "      <td>1983-05-30</td>\n",
       "    </tr>\n",
       "    <tr>\n",
       "      <th>2</th>\n",
       "      <td>1WeoeHh0TSzsApyJ6Q8OOK</td>\n",
       "      <td>I'll Be Over You</td>\n",
       "      <td>TOTO</td>\n",
       "      <td>[TOTO]</td>\n",
       "      <td>0.515</td>\n",
       "      <td>0.277</td>\n",
       "      <td>10</td>\n",
       "      <td>-17.850</td>\n",
       "      <td>1</td>\n",
       "      <td>0.0620</td>\n",
       "      <td>...</td>\n",
       "      <td>0.2580</td>\n",
       "      <td>0.413</td>\n",
       "      <td>82.167</td>\n",
       "      <td>229880</td>\n",
       "      <td>4</td>\n",
       "      <td>78</td>\n",
       "      <td>12</td>\n",
       "      <td>741</td>\n",
       "      <td>[album rock, classic rock, hard rock, mellow g...</td>\n",
       "      <td>1986-08</td>\n",
       "    </tr>\n",
       "    <tr>\n",
       "      <th>3</th>\n",
       "      <td>48p5E25cFPanxuwCTmTpuL</td>\n",
       "      <td>The Promise</td>\n",
       "      <td>When In Rome</td>\n",
       "      <td>[When In Rome]</td>\n",
       "      <td>0.629</td>\n",
       "      <td>0.876</td>\n",
       "      <td>0</td>\n",
       "      <td>-10.141</td>\n",
       "      <td>1</td>\n",
       "      <td>0.0864</td>\n",
       "      <td>...</td>\n",
       "      <td>0.0431</td>\n",
       "      <td>0.358</td>\n",
       "      <td>118.010</td>\n",
       "      <td>220960</td>\n",
       "      <td>4</td>\n",
       "      <td>104</td>\n",
       "      <td>8</td>\n",
       "      <td>1025</td>\n",
       "      <td>[new romantic, new wave, synthpop]</td>\n",
       "      <td>1988-01-01</td>\n",
       "    </tr>\n",
       "    <tr>\n",
       "      <th>4</th>\n",
       "      <td>5AhRNIjYPBleR1lfHphcrE</td>\n",
       "      <td>The Edge of Heaven</td>\n",
       "      <td>Wham!</td>\n",
       "      <td>[Wham!]</td>\n",
       "      <td>0.493</td>\n",
       "      <td>0.665</td>\n",
       "      <td>9</td>\n",
       "      <td>-13.817</td>\n",
       "      <td>0</td>\n",
       "      <td>0.1170</td>\n",
       "      <td>...</td>\n",
       "      <td>0.1590</td>\n",
       "      <td>0.877</td>\n",
       "      <td>152.644</td>\n",
       "      <td>270800</td>\n",
       "      <td>4</td>\n",
       "      <td>171</td>\n",
       "      <td>11</td>\n",
       "      <td>894</td>\n",
       "      <td>[new romantic, new wave, new wave pop, soft ro...</td>\n",
       "      <td>1986-07-01</td>\n",
       "    </tr>\n",
       "  </tbody>\n",
       "</table>\n",
       "<p>5 rows × 21 columns</p>\n",
       "</div>"
      ],
      "text/plain": [
       "                       id                                      title   \n",
       "0  2d8D7uk3tbAThjRkdfrx9c                              Voyage voyage  \\\n",
       "1  23l1kVpqMVREiwU1YAlcr4  I Guess That's Why They Call It The Blues   \n",
       "2  1WeoeHh0TSzsApyJ6Q8OOK                           I'll Be Over You   \n",
       "3  48p5E25cFPanxuwCTmTpuL                                The Promise   \n",
       "4  5AhRNIjYPBleR1lfHphcrE                         The Edge of Heaven   \n",
       "\n",
       "   first_artist     all_artists  danceability  energy  key  loudness  mode   \n",
       "0    Desireless    [Desireless]         0.606   0.913    8    -6.039     0  \\\n",
       "1    Elton John    [Elton John]         0.673   0.663    0    -7.290     1   \n",
       "2          TOTO          [TOTO]         0.515   0.277   10   -17.850     1   \n",
       "3  When In Rome  [When In Rome]         0.629   0.876    0   -10.141     1   \n",
       "4         Wham!         [Wham!]         0.493   0.665    9   -13.817     0   \n",
       "\n",
       "   acousticness  ...  liveness  valence    tempo  duration_ms  time_signature   \n",
       "0        0.2460  ...    0.3400    0.838  123.580       266600               4  \\\n",
       "1        0.2170  ...    0.1770    0.671  120.634       285333               3   \n",
       "2        0.0620  ...    0.2580    0.413   82.167       229880               4   \n",
       "3        0.0864  ...    0.0431    0.358  118.010       220960               4   \n",
       "4        0.1170  ...    0.1590    0.877  152.644       270800               4   \n",
       "\n",
       "   num_bars  num_sections  num_segments   \n",
       "0       133            11          1057  \\\n",
       "1       186            16           865   \n",
       "2        78            12           741   \n",
       "3       104             8          1025   \n",
       "4       171            11           894   \n",
       "\n",
       "                                       genres_artist release_date_album  \n",
       "0                   [french synthpop, italian disco]         2001-01-02  \n",
       "1         [glam rock, mellow gold, piano rock, rock]         1983-05-30  \n",
       "2  [album rock, classic rock, hard rock, mellow g...            1986-08  \n",
       "3                 [new romantic, new wave, synthpop]         1988-01-01  \n",
       "4  [new romantic, new wave, new wave pop, soft ro...         1986-07-01  \n",
       "\n",
       "[5 rows x 21 columns]"
      ]
     },
     "execution_count": 184,
     "metadata": {},
     "output_type": "execute_result"
    }
   ],
   "source": [
    "# Merging the data frames\n",
    "features_df['title'] = playlist_tracks_titles\n",
    "features_df['first_artist'] = playlist_tracks_first_artists\n",
    "features_df['all_artists'] = playlist_tracks_artists\n",
    "\n",
    "features_df = features_df[['id', 'title', 'first_artist', 'all_artists',\n",
    "                           'danceability', 'energy', 'key', 'loudness',\n",
    "                           'mode', 'acousticness', 'instrumentalness',\n",
    "                           'liveness', 'valence', 'tempo',\n",
    "                           'duration_ms', 'time_signature']]\n",
    "\n",
    "features_df['num_bars'] = num_bars\n",
    "features_df['num_sections'] = num_sections\n",
    "features_df['num_segments'] = num_segments\n",
    "\n",
    "features_df['genres_artist'] = genre_artist\n",
    "features_df['release_date_album'] = release_date_album\n",
    "\n",
    "# Let's see what the dataframe looks like\n",
    "features_df.head()"
   ]
  },
  {
   "cell_type": "code",
   "execution_count": 185,
   "id": "97dfc0fe-54c3-4a17-a70d-47f4da03d950",
   "metadata": {
    "execution": {
     "iopub.execute_input": "2023-05-22T08:03:09.397742Z",
     "iopub.status.busy": "2023-05-22T08:03:09.396782Z",
     "iopub.status.idle": "2023-05-22T08:03:09.434290Z",
     "shell.execute_reply": "2023-05-22T08:03:09.432381Z",
     "shell.execute_reply.started": "2023-05-22T08:03:09.397661Z"
    },
    "tags": []
   },
   "outputs": [],
   "source": [
    "# Saving the playlist's dataframe as a CSV\n",
    "features_df.to_csv(\"playlist_\" + str(playlist_index) + \".csv\", encoding='utf-8',index=\"false\")"
   ]
  },
  {
   "cell_type": "code",
   "execution_count": 186,
   "id": "73f2a565-b58c-44dd-a095-a31b20d8ede5",
   "metadata": {
    "execution": {
     "iopub.execute_input": "2023-05-22T08:04:03.407735Z",
     "iopub.status.busy": "2023-05-22T08:04:03.407013Z",
     "iopub.status.idle": "2023-05-22T08:04:03.416839Z",
     "shell.execute_reply": "2023-05-22T08:04:03.415630Z",
     "shell.execute_reply.started": "2023-05-22T08:04:03.407675Z"
    },
    "tags": []
   },
   "outputs": [],
   "source": [
    "# Now let's combine all the csv files\n",
    "\n",
    "import glob\n",
    "import os\n",
    "\n",
    "# Set the path for joining multiple files\n",
    "files = os.path.join(\"playlist_*.csv\")\n",
    "files = glob.glob(files) # Return list of merged files                 "
   ]
  },
  {
   "cell_type": "code",
   "execution_count": 191,
   "id": "8343247f-4c81-458d-ac5b-f2dfcecbe4b1",
   "metadata": {
    "execution": {
     "iopub.execute_input": "2023-05-22T08:10:42.862441Z",
     "iopub.status.busy": "2023-05-22T08:10:42.861640Z",
     "iopub.status.idle": "2023-05-22T08:10:43.007342Z",
     "shell.execute_reply": "2023-05-22T08:10:43.005675Z",
     "shell.execute_reply.started": "2023-05-22T08:10:42.862378Z"
    },
    "tags": []
   },
   "outputs": [
    {
     "data": {
      "text/plain": [
       "2263"
      ]
     },
     "execution_count": 191,
     "metadata": {},
     "output_type": "execute_result"
    }
   ],
   "source": [
    "# Concatenating the files\n",
    "full_df = pd.concat(map(pd.read_csv, files), ignore_index=True)\n",
    "\n",
    "# The dataframe contains 3289 songs, but some songs are probably in it multiple times.\n",
    "# Only save unique track IDs\n",
    "full_df = full_df.drop_duplicates(subset=['id'])\n",
    "\n",
    "# Printing the length of the dataframe. \n",
    "len(full_df) # Now there's 2263 songs left"
   ]
  },
  {
   "cell_type": "code",
   "execution_count": 192,
   "id": "11e1cfb8-10c7-4163-b273-f798a1000335",
   "metadata": {
    "execution": {
     "iopub.execute_input": "2023-05-22T08:12:42.750040Z",
     "iopub.status.busy": "2023-05-22T08:12:42.749085Z",
     "iopub.status.idle": "2023-05-22T08:12:42.797514Z",
     "shell.execute_reply": "2023-05-22T08:12:42.796593Z",
     "shell.execute_reply.started": "2023-05-22T08:12:42.749933Z"
    },
    "tags": []
   },
   "outputs": [],
   "source": [
    "# Saving the dataset as a new CSV\n",
    "full_df.to_csv(\"spotify_pop_songs\" + \".csv\", encoding='utf-8',index=\"false\")"
   ]
  }
 ],
 "metadata": {
  "kernelspec": {
   "display_name": "Python 3 ",
   "language": "python",
   "name": "python3"
  },
  "language_info": {
   "codemirror_mode": {
    "name": "ipython",
    "version": 3
   },
   "file_extension": ".py",
   "mimetype": "text/x-python",
   "name": "python",
   "nbconvert_exporter": "python",
   "pygments_lexer": "ipython3",
   "version": "3.10.10"
  }
 },
 "nbformat": 4,
 "nbformat_minor": 5
}
